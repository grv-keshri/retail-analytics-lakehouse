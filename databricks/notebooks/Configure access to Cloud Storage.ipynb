{
 "cells": [
  {
   "cell_type": "markdown",
   "metadata": {
    "application/vnd.databricks.v1+cell": {
     "cellMetadata": {},
     "inputWidgets": {},
     "nuid": "18ff383d-a039-49a1-b7d6-47288a518b56",
     "showTitle": false,
     "tableResultSettingsMap": {},
     "title": ""
    }
   },
   "source": [
    "**SANITY CHECK**"
   ]
  },
  {
   "cell_type": "code",
   "execution_count": 0,
   "metadata": {
    "application/vnd.databricks.v1+cell": {
     "cellMetadata": {
      "byteLimit": 2048000,
      "implicitDf": true,
      "rowLimit": 10000
     },
     "inputWidgets": {},
     "nuid": "5df3c619-20a0-417d-8181-9527e480b913",
     "showTitle": false,
     "tableResultSettingsMap": {
      "0": {
       "dataGridStateBlob": "{\"version\":1,\"tableState\":{\"columnPinning\":{\"left\":[\"#row_number#\"],\"right\":[]},\"columnSizing\":{\"current_metastore()\":365},\"columnVisibility\":{}},\"settings\":{\"columns\":{}},\"syncTimestamp\":1756210203946}",
       "filterBlob": null,
       "queryPlanFiltersBlob": null,
       "tableResultIndex": 0
      }
     },
     "title": ""
    }
   },
   "outputs": [],
   "source": [
    "%sql\n",
    "SELECT current_metastore(), current_catalog();\n"
   ]
  },
  {
   "cell_type": "markdown",
   "metadata": {
    "application/vnd.databricks.v1+cell": {
     "cellMetadata": {},
     "inputWidgets": {},
     "nuid": "bb748a53-4d33-4948-b494-b7c880375df1",
     "showTitle": false,
     "tableResultSettingsMap": {},
     "title": ""
    }
   },
   "source": [
    "**CREATE CATALOG**"
   ]
  },
  {
   "cell_type": "code",
   "execution_count": 0,
   "metadata": {
    "application/vnd.databricks.v1+cell": {
     "cellMetadata": {
      "byteLimit": 2048000,
      "implicitDf": true,
      "rowLimit": 10000
     },
     "inputWidgets": {},
     "nuid": "af6ad4fa-3a3c-466a-95d2-4935bd219d3e",
     "showTitle": false,
     "tableResultSettingsMap": {},
     "title": ""
    }
   },
   "outputs": [],
   "source": [
    "%sql\n",
    "CREATE CATALOG IF NOT EXISTS retail_analytics MANAGED LOCATION 'abfss://de-portfolio@newstoragegaurav.dfs.core.windows.net/retail_analytics';"
   ]
  },
  {
   "cell_type": "markdown",
   "metadata": {
    "application/vnd.databricks.v1+cell": {
     "cellMetadata": {},
     "inputWidgets": {},
     "nuid": "32663547-2048-47f4-a4b7-1cd0cc18dcc5",
     "showTitle": false,
     "tableResultSettingsMap": {},
     "title": ""
    }
   },
   "source": [
    "**USE CATALOG AND CREATE MANAGED SCHEMA**"
   ]
  },
  {
   "cell_type": "code",
   "execution_count": 0,
   "metadata": {
    "application/vnd.databricks.v1+cell": {
     "cellMetadata": {
      "byteLimit": 2048000,
      "implicitDf": true,
      "rowLimit": 10000
     },
     "inputWidgets": {},
     "nuid": "17ea38ac-103a-42e5-8a69-2dd7ebbb51c9",
     "showTitle": false,
     "tableResultSettingsMap": {},
     "title": ""
    }
   },
   "outputs": [],
   "source": [
    "%sql\n",
    "CREATE SCHEMA raw\n",
    "  MANAGED LOCATION 'abfss://de-portfolio@newstoragegaurav.dfs.core.windows.net/retail_analytics/_managed/raw/';\n",
    "CREATE SCHEMA bronze\n",
    "  MANAGED LOCATION 'abfss://de-portfolio@newstoragegaurav.dfs.core.windows.net/retail_analytics/_managed/bronze/';\n",
    "CREATE SCHEMA silver\n",
    "  MANAGED LOCATION 'abfss://de-portfolio@newstoragegaurav.dfs.core.windows.net/retail_analytics/_managed/silver/';\n",
    "CREATE SCHEMA gold\n",
    "  MANAGED LOCATION 'abfss://de-portfolio@newstoragegaurav.dfs.core.windows.net/retail_analytics/_managed/gold/';"
   ]
  },
  {
   "cell_type": "markdown",
   "metadata": {
    "application/vnd.databricks.v1+cell": {
     "cellMetadata": {},
     "inputWidgets": {},
     "nuid": "86279185-0f21-4b51-93d2-49bb2edfde4f",
     "showTitle": false,
     "tableResultSettingsMap": {},
     "title": ""
    }
   },
   "source": [
    "**CREATE VOLUMES**"
   ]
  },
  {
   "cell_type": "code",
   "execution_count": 0,
   "metadata": {
    "application/vnd.databricks.v1+cell": {
     "cellMetadata": {
      "byteLimit": 2048000,
      "implicitDf": true,
      "rowLimit": 10000
     },
     "inputWidgets": {},
     "nuid": "701411cb-5950-44b5-a6c4-a568f2647f61",
     "showTitle": false,
     "tableResultSettingsMap": {},
     "title": ""
    }
   },
   "outputs": [],
   "source": [
    "%sql\n",
    "-- External VOLUMES (raw/bronze live in your curated ADLS folders)\n",
    "CREATE EXTERNAL VOLUME IF NOT EXISTS raw.landing_ecommerce\n",
    "  LOCATION 'abfss://de-portfolio@newstoragegaurav.dfs.core.windows.net/landing/ecommerce';\n",
    "CREATE EXTERNAL VOLUME IF NOT EXISTS raw.schemas_ecommerce\n",
    "  LOCATION 'abfss://de-portfolio@newstoragegaurav.dfs.core.windows.net/schemas/ecommerce';\n",
    "CREATE EXTERNAL VOLUME IF NOT EXISTS raw.chk_ecommerce\n",
    "  LOCATION 'abfss://de-portfolio@newstoragegaurav.dfs.core.windows.net/chk/ecommerce';\n",
    "CREATE EXTERNAL VOLUME IF NOT EXISTS bronze.bronze_ecommerce\n",
    "  LOCATION 'abfss://de-portfolio@newstoragegaurav.dfs.core.windows.net/bronze/ecommerce';"
   ]
  },
  {
   "cell_type": "markdown",
   "metadata": {
    "application/vnd.databricks.v1+cell": {
     "cellMetadata": {},
     "inputWidgets": {},
     "nuid": "38153792-6cbf-4ba8-a736-9f9f054873ba",
     "showTitle": false,
     "tableResultSettingsMap": {},
     "title": ""
    }
   },
   "source": []
  },
  {
   "cell_type": "code",
   "execution_count": 0,
   "metadata": {
    "application/vnd.databricks.v1+cell": {
     "cellMetadata": {
      "byteLimit": 2048000,
      "implicitDf": true,
      "rowLimit": 10000
     },
     "inputWidgets": {},
     "nuid": "84110a68-4f3b-4106-b2eb-4ab3d1a69718",
     "showTitle": false,
     "tableResultSettingsMap": {},
     "title": ""
    }
   },
   "outputs": [],
   "source": [
    "%sql\n",
    "CREATE TABLE IF NOT EXISTS retail_analytics.silver.ecommerce_customers  USING DELTA\n",
    "  LOCATION 'abfss://de-portfolio@newstoragegaurav.dfs.core.windows.net/silver/ecommerce/customers';\n",
    "CREATE TABLE IF NOT EXISTS retail_analytics.silver.ecommerce_orderlines USING DELTA\n",
    "  LOCATION 'abfss://de-portfolio@newstoragegaurav.dfs.core.windows.net/silver/ecommerce/orderlines';\n",
    "CREATE TABLE IF NOT EXISTS retail_analytics.silver.ecommerce_orders     USING DELTA\n",
    "  LOCATION 'abfss://de-portfolio@newstoragegaurav.dfs.core.windows.net/silver/ecommerce/orders';\n",
    "CREATE TABLE IF NOT EXISTS retail_analytics.silver.ecommerce_products   USING DELTA\n",
    "  LOCATION 'abfss://de-portfolio@newstoragegaurav.dfs.core.windows.net/silver/ecommerce/products';\n",
    "CREATE TABLE IF NOT EXISTS retail_analytics.silver.ecommerce_returns    USING DELTA\n",
    "  LOCATION 'abfss://de-portfolio@newstoragegaurav.dfs.core.windows.net/silver/ecommerce/returns';"
   ]
  },
  {
   "cell_type": "code",
   "execution_count": 0,
   "metadata": {
    "application/vnd.databricks.v1+cell": {
     "cellMetadata": {
      "byteLimit": 2048000,
      "implicitDf": true,
      "rowLimit": 10000
     },
     "inputWidgets": {},
     "nuid": "5173de7d-fc49-4a89-8f01-87dd743382a5",
     "showTitle": false,
     "tableResultSettingsMap": {},
     "title": ""
    }
   },
   "outputs": [],
   "source": [
    "%sql\n",
    "CREATE TABLE IF NOT EXISTS retail_analytics.gold.ecommerce_dim_date       USING DELTA\n",
    "  LOCATION 'abfss://de-portfolio@newstoragegaurav.dfs.core.windows.net/gold/ecommerce/dim_date';\n",
    "CREATE TABLE IF NOT EXISTS retail_analytics.gold.ecommerce_dim_products   USING DELTA\n",
    "  LOCATION 'abfss://de-portfolio@newstoragegaurav.dfs.core.windows.net/gold/ecommerce/dim_products';\n",
    "CREATE TABLE IF NOT EXISTS retail_analytics.gold.ecommerce_dim_channel    USING DELTA\n",
    "  LOCATION 'abfss://de-portfolio@newstoragegaurav.dfs.core.windows.net/gold/ecommerce/dim_channel';\n",
    "CREATE TABLE IF NOT EXISTS retail_analytics.gold.ecommerce_dim_customer   USING DELTA\n",
    "  LOCATION 'abfss://de-portfolio@newstoragegaurav.dfs.core.windows.net/gold/ecommerce/dim_customer';\n",
    "CREATE TABLE IF NOT EXISTS retail_analytics.gold.ecommerce_fact_sales     USING DELTA\n",
    "  LOCATION 'abfss://de-portfolio@newstoragegaurav.dfs.core.windows.net/gold/ecommerce/fact_sales';\n",
    "CREATE TABLE IF NOT EXISTS retail_analytics.gold.ecommerce_sales_obt_daily USING DELTA\n",
    "  LOCATION 'abfss://de-portfolio@newstoragegaurav.dfs.core.windows.net/gold/ecommerce/sales_obt_daily';"
   ]
  },
  {
   "cell_type": "code",
   "execution_count": 0,
   "metadata": {
    "application/vnd.databricks.v1+cell": {
     "cellMetadata": {
      "byteLimit": 2048000,
      "implicitDf": true,
      "rowLimit": 10000
     },
     "inputWidgets": {},
     "nuid": "23b7e109-554e-4d5e-9c02-08b5b51590d0",
     "showTitle": false,
     "tableResultSettingsMap": {},
     "title": ""
    }
   },
   "outputs": [],
   "source": [
    "%sql\n",
    "USE CATALOG retail_analytics;"
   ]
  },
  {
   "cell_type": "code",
   "execution_count": 0,
   "metadata": {
    "application/vnd.databricks.v1+cell": {
     "cellMetadata": {
      "byteLimit": 2048000,
      "implicitDf": true,
      "rowLimit": 10000
     },
     "inputWidgets": {},
     "nuid": "bbd94d95-f300-4078-8340-eb6e72f9b5bb",
     "showTitle": false,
     "tableResultSettingsMap": {},
     "title": ""
    }
   },
   "outputs": [],
   "source": [
    "%sql \n",
    "DESCRIBE SCHEMA EXTENDED raw;"
   ]
  },
  {
   "cell_type": "code",
   "execution_count": 0,
   "metadata": {
    "application/vnd.databricks.v1+cell": {
     "cellMetadata": {
      "byteLimit": 2048000,
      "implicitDf": true,
      "rowLimit": 10000
     },
     "inputWidgets": {},
     "nuid": "eac7506d-4c8e-4f38-ac11-983afdb5c9da",
     "showTitle": false,
     "tableResultSettingsMap": {},
     "title": ""
    }
   },
   "outputs": [],
   "source": [
    "%sql\n",
    "USE CATALOG retail_analytics;\n",
    "\n",
    "-- Catalog usage\n",
    "GRANT USAGE ON CATALOG retail_analytics TO `myself`;\n",
    "\n",
    "-- Schema access\n",
    "GRANT USAGE, CREATE ON SCHEMA retail_analytics.raw    TO `myself`;\n",
    "GRANT USAGE, CREATE ON SCHEMA retail_analytics.bronze TO `myself`;\n",
    "GRANT USAGE, CREATE ON SCHEMA retail_analytics.silver TO `myself`;\n",
    "GRANT USAGE, CREATE ON SCHEMA retail_analytics.gold   TO `myself`;\n",
    "\n"
   ]
  },
  {
   "cell_type": "code",
   "execution_count": 0,
   "metadata": {
    "application/vnd.databricks.v1+cell": {
     "cellMetadata": {
      "byteLimit": 2048000,
      "implicitDf": true,
      "rowLimit": 10000
     },
     "inputWidgets": {},
     "nuid": "5b37d4eb-db02-4469-a682-11791fb147e6",
     "showTitle": false,
     "tableResultSettingsMap": {},
     "title": ""
    }
   },
   "outputs": [],
   "source": [
    "%sql\n",
    "-- Current tables\n",
    "GRANT SELECT, MODIFY ON TABLE silver.ecommerce_customers  TO `myself`;\n",
    "GRANT SELECT, MODIFY ON TABLE silver.ecommerce_orderlines TO `myself`;\n",
    "GRANT SELECT, MODIFY ON TABLE silver.ecommerce_orders     TO `myself`;\n",
    "GRANT SELECT, MODIFY ON TABLE silver.ecommerce_products   TO `myself`;\n",
    "GRANT SELECT, MODIFY ON TABLE silver.ecommerce_returns    TO `myself`;"
   ]
  },
  {
   "cell_type": "code",
   "execution_count": 0,
   "metadata": {
    "application/vnd.databricks.v1+cell": {
     "cellMetadata": {
      "byteLimit": 2048000,
      "implicitDf": true,
      "rowLimit": 10000
     },
     "inputWidgets": {},
     "nuid": "379cc15c-22c0-4c2c-a219-4c597f4e9b7c",
     "showTitle": false,
     "tableResultSettingsMap": {},
     "title": ""
    }
   },
   "outputs": [],
   "source": [
    "%sql\n",
    "GRANT SELECT ON TABLE gold.ecommerce_dim_date        TO `myself`;\n",
    "GRANT SELECT ON TABLE gold.ecommerce_dim_products    TO `myself`;\n",
    "GRANT SELECT ON TABLE gold.ecommerce_dim_channel     TO `myself`;\n",
    "GRANT SELECT ON TABLE gold.ecommerce_dim_customer    TO `myself`;\n",
    "GRANT SELECT ON TABLE gold.ecommerce_fact_sales      TO `myself`;\n",
    "GRANT SELECT ON TABLE gold.ecommerce_sales_obt_daily TO `myself`;"
   ]
  },
  {
   "cell_type": "code",
   "execution_count": 0,
   "metadata": {
    "application/vnd.databricks.v1+cell": {
     "cellMetadata": {
      "byteLimit": 2048000,
      "implicitDf": true,
      "rowLimit": 10000
     },
     "inputWidgets": {},
     "nuid": "7e0d3924-83e9-456c-8c68-68211437c81d",
     "showTitle": false,
     "tableResultSettingsMap": {},
     "title": ""
    }
   },
   "outputs": [],
   "source": [
    "%sql\n",
    "GRANT READ FILES, WRITE FILES ON EXTERNAL LOCATION `de-portfolio` TO `myself`;"
   ]
  },
  {
   "cell_type": "code",
   "execution_count": 0,
   "metadata": {
    "application/vnd.databricks.v1+cell": {
     "cellMetadata": {
      "byteLimit": 2048000,
      "implicitDf": true,
      "rowLimit": 10000
     },
     "inputWidgets": {},
     "nuid": "8bbeeccb-9752-4ebb-a196-a7d06d631cb9",
     "showTitle": false,
     "tableResultSettingsMap": {
      "0": {
       "dataGridStateBlob": "{\"version\":1,\"tableState\":{\"columnPinning\":{\"left\":[\"#row_number#\"],\"right\":[]},\"columnSizing\":{\"url\":407},\"columnVisibility\":{}},\"settings\":{\"columns\":{}},\"syncTimestamp\":1756276495409}",
       "filterBlob": null,
       "queryPlanFiltersBlob": null,
       "tableResultIndex": 0
      }
     },
     "title": ""
    }
   },
   "outputs": [],
   "source": [
    "%sql\n",
    "DESCRIBE EXTERNAL LOCATION `de-portfolio`;"
   ]
  },
  {
   "cell_type": "code",
   "execution_count": 0,
   "metadata": {
    "application/vnd.databricks.v1+cell": {
     "cellMetadata": {
      "byteLimit": 2048000,
      "implicitDf": true,
      "rowLimit": 10000
     },
     "inputWidgets": {},
     "nuid": "61d9a0ec-fd69-40fc-90eb-18cdf27243b5",
     "showTitle": false,
     "tableResultSettingsMap": {},
     "title": ""
    }
   },
   "outputs": [],
   "source": []
  },
  {
   "cell_type": "code",
   "execution_count": 0,
   "metadata": {
    "application/vnd.databricks.v1+cell": {
     "cellMetadata": {},
     "inputWidgets": {},
     "nuid": "b77cd9e7-13e8-451d-b2b2-7295cf802ade",
     "showTitle": false,
     "tableResultSettingsMap": {},
     "title": ""
    }
   },
   "outputs": [],
   "source": []
  }
 ],
 "metadata": {
  "application/vnd.databricks.v1+notebook": {
   "computePreferences": {
    "hardware": {
     "accelerator": null,
     "gpuPoolId": null,
     "memory": null
    }
   },
   "dashboards": [],
   "environmentMetadata": {
    "base_environment": "",
    "environment_version": "3"
   },
   "inputWidgetPreferences": null,
   "language": "python",
   "notebookMetadata": {
    "mostRecentlyExecutedCommandWithImplicitDF": {
     "commandId": 8761458938412103,
     "dataframes": [
      "_sqldf"
     ]
    },
    "pythonIndentUnit": 4
   },
   "notebookName": "Configure access to Cloud Storage",
   "widgets": {}
  },
  "language_info": {
   "name": "python"
  }
 },
 "nbformat": 4,
 "nbformat_minor": 0
}
